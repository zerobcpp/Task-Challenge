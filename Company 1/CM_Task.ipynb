{
  "cells": [
    {
      "attachments": {},
      "cell_type": "markdown",
      "metadata": {
        "id": "rHaZgOQJ_cH2"
      },
      "source": [
        "### Test Instructions\n",
        "The purpose of this simple coding test is to allow us to get a grasp on the quality of your code and to identify the role that would suit you best within our team. You don't NEED to be able to answer all of the items, but the ones that you do answer need to be correct. Feel free to use Google or any other tools that you prefer to complete these tasks.\n",
        "\n",
        "Install any needed third-party libraries below this block. Please install the minimum amount of libraries you need."
      ]
    },
    {
      "attachments": {},
      "cell_type": "markdown",
      "metadata": {
        "id": "DS8Y5bTE_cNX"
      },
      "source": [
        "!pip install whatever_you_need"
      ]
    },
    {
      "cell_type": "code",
      "execution_count": null,
      "metadata": {
        "id": "GeZ98TNS_ZDK"
      },
      "outputs": [],
      "source": []
    },
    {
      "attachments": {},
      "cell_type": "markdown",
      "metadata": {
        "id": "tT8GriLI_qcl"
      },
      "source": [
        "### Task 1 (Data manipulation / Visualization)\n",
        "\n",
        "\n",
        "In `message_data.csv` there's two columns, one corresponds to the unique id of someone sending a message and the other one to when they sent it.\n",
        "\n",
        "Generate an interactive chart that shows the percentage of daily messages sent by new users (those who sent their first message ever on a given day)."
      ]
    },
    {
      "cell_type": "code",
      "execution_count": null,
      "metadata": {
        "colab": {
          "base_uri": "https://localhost:8080/",
          "height": 559
        },
        "id": "gMe_jfXp_2zu",
        "outputId": "e08b3fe9-92b2-4016-ce1d-1e0f6997c4e8"
      },
      "outputs": [
        {
          "name": "stdout",
          "output_type": "stream",
          "text": [
            "2022-05-01\n"
          ]
        },
        {
          "data": {
            "text/html": [
              "<html>\n",
              "<head><meta charset=\"utf-8\" /></head>\n",
              "<body>\n",
              "    <div>            <script src=\"https://cdnjs.cloudflare.com/ajax/libs/mathjax/2.7.5/MathJax.js?config=TeX-AMS-MML_SVG\"></script><script type=\"text/javascript\">if (window.MathJax && window.MathJax.Hub && window.MathJax.Hub.Config) {window.MathJax.Hub.Config({SVG: {font: \"STIX-Web\"}});}</script>                <script type=\"text/javascript\">window.PlotlyConfig = {MathJaxConfig: 'local'};</script>\n",
              "        <script src=\"https://cdn.plot.ly/plotly-2.18.2.min.js\"></script>                <div id=\"5fd87f78-a3e0-4f97-862a-b9396a3b7a7e\" class=\"plotly-graph-div\" style=\"height:525px; width:100%;\"></div>            <script type=\"text/javascript\">                                    window.PLOTLYENV=window.PLOTLYENV || {};                                    if (document.getElementById(\"5fd87f78-a3e0-4f97-862a-b9396a3b7a7e\")) {                    Plotly.newPlot(                        \"5fd87f78-a3e0-4f97-862a-b9396a3b7a7e\",                        [{\"hovertemplate\":\"day=%{x}<br>percentage_new=%{y}<extra></extra>\",\"legendgroup\":\"\",\"line\":{\"color\":\"#636efa\",\"dash\":\"solid\"},\"marker\":{\"symbol\":\"circle\"},\"mode\":\"lines\",\"name\":\"\",\"orientation\":\"v\",\"showlegend\":false,\"x\":[\"2022-05-01T00:00:00\",\"2022-05-02T00:00:00\",\"2022-05-03T00:00:00\",\"2022-05-04T00:00:00\",\"2022-05-05T00:00:00\",\"2022-05-06T00:00:00\",\"2022-05-07T00:00:00\",\"2022-05-08T00:00:00\",\"2022-05-09T00:00:00\",\"2022-05-10T00:00:00\",\"2022-05-11T00:00:00\",\"2022-05-12T00:00:00\",\"2022-05-13T00:00:00\",\"2022-05-14T00:00:00\",\"2022-05-15T00:00:00\",\"2022-05-16T00:00:00\",\"2022-05-17T00:00:00\",\"2022-05-18T00:00:00\",\"2022-05-19T00:00:00\",\"2022-05-20T00:00:00\",\"2022-05-21T00:00:00\",\"2022-05-22T00:00:00\",\"2022-05-23T00:00:00\",\"2022-05-24T00:00:00\",\"2022-05-25T00:00:00\",\"2022-05-26T00:00:00\",\"2022-05-27T00:00:00\",\"2022-05-28T00:00:00\",\"2022-05-29T00:00:00\",\"2022-05-30T00:00:00\",\"2022-05-31T00:00:00\",\"2022-06-01T00:00:00\",\"2022-06-02T00:00:00\",\"2022-06-03T00:00:00\",\"2022-06-04T00:00:00\",\"2022-06-05T00:00:00\",\"2022-06-06T00:00:00\",\"2022-06-07T00:00:00\",\"2022-06-08T00:00:00\",\"2022-06-09T00:00:00\",\"2022-06-10T00:00:00\"],\"xaxis\":\"x\",\"y\":[100.0,60.0,29.96389891696751,13.57604627424294,20.072202166064983,15.83011583011583,19.915254237288135,20.02840909090909,20.944558521560573,17.97752808988764,20.0,21.937842778793417,15.817223198594025,24.642857142857146,25.092250922509223,16.129032258064516,19.65811965811966,17.88617886178862,38.862559241706165,25.15527950310559,23.12925170068027,21.030042918454935,19.155844155844157,21.084337349397593,21.940298507462686,15.919282511210762,21.700223713646533,21.1734693877551,14.07702523240372,15.34954407294833,15.488215488215488,16.593503072870938,26.533523537803138,17.44312026002167,19.98394863563403,17.986425339366516,20.934444042013762,18.79847908745247,34.12265531462019,16.94560669456067,50.0],\"yaxis\":\"y\",\"type\":\"scatter\"}],                        {\"template\":{\"data\":{\"histogram2dcontour\":[{\"type\":\"histogram2dcontour\",\"colorbar\":{\"outlinewidth\":0,\"ticks\":\"\"},\"colorscale\":[[0.0,\"#0d0887\"],[0.1111111111111111,\"#46039f\"],[0.2222222222222222,\"#7201a8\"],[0.3333333333333333,\"#9c179e\"],[0.4444444444444444,\"#bd3786\"],[0.5555555555555556,\"#d8576b\"],[0.6666666666666666,\"#ed7953\"],[0.7777777777777778,\"#fb9f3a\"],[0.8888888888888888,\"#fdca26\"],[1.0,\"#f0f921\"]]}],\"choropleth\":[{\"type\":\"choropleth\",\"colorbar\":{\"outlinewidth\":0,\"ticks\":\"\"}}],\"histogram2d\":[{\"type\":\"histogram2d\",\"colorbar\":{\"outlinewidth\":0,\"ticks\":\"\"},\"colorscale\":[[0.0,\"#0d0887\"],[0.1111111111111111,\"#46039f\"],[0.2222222222222222,\"#7201a8\"],[0.3333333333333333,\"#9c179e\"],[0.4444444444444444,\"#bd3786\"],[0.5555555555555556,\"#d8576b\"],[0.6666666666666666,\"#ed7953\"],[0.7777777777777778,\"#fb9f3a\"],[0.8888888888888888,\"#fdca26\"],[1.0,\"#f0f921\"]]}],\"heatmap\":[{\"type\":\"heatmap\",\"colorbar\":{\"outlinewidth\":0,\"ticks\":\"\"},\"colorscale\":[[0.0,\"#0d0887\"],[0.1111111111111111,\"#46039f\"],[0.2222222222222222,\"#7201a8\"],[0.3333333333333333,\"#9c179e\"],[0.4444444444444444,\"#bd3786\"],[0.5555555555555556,\"#d8576b\"],[0.6666666666666666,\"#ed7953\"],[0.7777777777777778,\"#fb9f3a\"],[0.8888888888888888,\"#fdca26\"],[1.0,\"#f0f921\"]]}],\"heatmapgl\":[{\"type\":\"heatmapgl\",\"colorbar\":{\"outlinewidth\":0,\"ticks\":\"\"},\"colorscale\":[[0.0,\"#0d0887\"],[0.1111111111111111,\"#46039f\"],[0.2222222222222222,\"#7201a8\"],[0.3333333333333333,\"#9c179e\"],[0.4444444444444444,\"#bd3786\"],[0.5555555555555556,\"#d8576b\"],[0.6666666666666666,\"#ed7953\"],[0.7777777777777778,\"#fb9f3a\"],[0.8888888888888888,\"#fdca26\"],[1.0,\"#f0f921\"]]}],\"contourcarpet\":[{\"type\":\"contourcarpet\",\"colorbar\":{\"outlinewidth\":0,\"ticks\":\"\"}}],\"contour\":[{\"type\":\"contour\",\"colorbar\":{\"outlinewidth\":0,\"ticks\":\"\"},\"colorscale\":[[0.0,\"#0d0887\"],[0.1111111111111111,\"#46039f\"],[0.2222222222222222,\"#7201a8\"],[0.3333333333333333,\"#9c179e\"],[0.4444444444444444,\"#bd3786\"],[0.5555555555555556,\"#d8576b\"],[0.6666666666666666,\"#ed7953\"],[0.7777777777777778,\"#fb9f3a\"],[0.8888888888888888,\"#fdca26\"],[1.0,\"#f0f921\"]]}],\"surface\":[{\"type\":\"surface\",\"colorbar\":{\"outlinewidth\":0,\"ticks\":\"\"},\"colorscale\":[[0.0,\"#0d0887\"],[0.1111111111111111,\"#46039f\"],[0.2222222222222222,\"#7201a8\"],[0.3333333333333333,\"#9c179e\"],[0.4444444444444444,\"#bd3786\"],[0.5555555555555556,\"#d8576b\"],[0.6666666666666666,\"#ed7953\"],[0.7777777777777778,\"#fb9f3a\"],[0.8888888888888888,\"#fdca26\"],[1.0,\"#f0f921\"]]}],\"mesh3d\":[{\"type\":\"mesh3d\",\"colorbar\":{\"outlinewidth\":0,\"ticks\":\"\"}}],\"scatter\":[{\"fillpattern\":{\"fillmode\":\"overlay\",\"size\":10,\"solidity\":0.2},\"type\":\"scatter\"}],\"parcoords\":[{\"type\":\"parcoords\",\"line\":{\"colorbar\":{\"outlinewidth\":0,\"ticks\":\"\"}}}],\"scatterpolargl\":[{\"type\":\"scatterpolargl\",\"marker\":{\"colorbar\":{\"outlinewidth\":0,\"ticks\":\"\"}}}],\"bar\":[{\"error_x\":{\"color\":\"#2a3f5f\"},\"error_y\":{\"color\":\"#2a3f5f\"},\"marker\":{\"line\":{\"color\":\"#E5ECF6\",\"width\":0.5},\"pattern\":{\"fillmode\":\"overlay\",\"size\":10,\"solidity\":0.2}},\"type\":\"bar\"}],\"scattergeo\":[{\"type\":\"scattergeo\",\"marker\":{\"colorbar\":{\"outlinewidth\":0,\"ticks\":\"\"}}}],\"scatterpolar\":[{\"type\":\"scatterpolar\",\"marker\":{\"colorbar\":{\"outlinewidth\":0,\"ticks\":\"\"}}}],\"histogram\":[{\"marker\":{\"pattern\":{\"fillmode\":\"overlay\",\"size\":10,\"solidity\":0.2}},\"type\":\"histogram\"}],\"scattergl\":[{\"type\":\"scattergl\",\"marker\":{\"colorbar\":{\"outlinewidth\":0,\"ticks\":\"\"}}}],\"scatter3d\":[{\"type\":\"scatter3d\",\"line\":{\"colorbar\":{\"outlinewidth\":0,\"ticks\":\"\"}},\"marker\":{\"colorbar\":{\"outlinewidth\":0,\"ticks\":\"\"}}}],\"scattermapbox\":[{\"type\":\"scattermapbox\",\"marker\":{\"colorbar\":{\"outlinewidth\":0,\"ticks\":\"\"}}}],\"scatterternary\":[{\"type\":\"scatterternary\",\"marker\":{\"colorbar\":{\"outlinewidth\":0,\"ticks\":\"\"}}}],\"scattercarpet\":[{\"type\":\"scattercarpet\",\"marker\":{\"colorbar\":{\"outlinewidth\":0,\"ticks\":\"\"}}}],\"carpet\":[{\"aaxis\":{\"endlinecolor\":\"#2a3f5f\",\"gridcolor\":\"white\",\"linecolor\":\"white\",\"minorgridcolor\":\"white\",\"startlinecolor\":\"#2a3f5f\"},\"baxis\":{\"endlinecolor\":\"#2a3f5f\",\"gridcolor\":\"white\",\"linecolor\":\"white\",\"minorgridcolor\":\"white\",\"startlinecolor\":\"#2a3f5f\"},\"type\":\"carpet\"}],\"table\":[{\"cells\":{\"fill\":{\"color\":\"#EBF0F8\"},\"line\":{\"color\":\"white\"}},\"header\":{\"fill\":{\"color\":\"#C8D4E3\"},\"line\":{\"color\":\"white\"}},\"type\":\"table\"}],\"barpolar\":[{\"marker\":{\"line\":{\"color\":\"#E5ECF6\",\"width\":0.5},\"pattern\":{\"fillmode\":\"overlay\",\"size\":10,\"solidity\":0.2}},\"type\":\"barpolar\"}],\"pie\":[{\"automargin\":true,\"type\":\"pie\"}]},\"layout\":{\"autotypenumbers\":\"strict\",\"colorway\":[\"#636efa\",\"#EF553B\",\"#00cc96\",\"#ab63fa\",\"#FFA15A\",\"#19d3f3\",\"#FF6692\",\"#B6E880\",\"#FF97FF\",\"#FECB52\"],\"font\":{\"color\":\"#2a3f5f\"},\"hovermode\":\"closest\",\"hoverlabel\":{\"align\":\"left\"},\"paper_bgcolor\":\"white\",\"plot_bgcolor\":\"#E5ECF6\",\"polar\":{\"bgcolor\":\"#E5ECF6\",\"angularaxis\":{\"gridcolor\":\"white\",\"linecolor\":\"white\",\"ticks\":\"\"},\"radialaxis\":{\"gridcolor\":\"white\",\"linecolor\":\"white\",\"ticks\":\"\"}},\"ternary\":{\"bgcolor\":\"#E5ECF6\",\"aaxis\":{\"gridcolor\":\"white\",\"linecolor\":\"white\",\"ticks\":\"\"},\"baxis\":{\"gridcolor\":\"white\",\"linecolor\":\"white\",\"ticks\":\"\"},\"caxis\":{\"gridcolor\":\"white\",\"linecolor\":\"white\",\"ticks\":\"\"}},\"coloraxis\":{\"colorbar\":{\"outlinewidth\":0,\"ticks\":\"\"}},\"colorscale\":{\"sequential\":[[0.0,\"#0d0887\"],[0.1111111111111111,\"#46039f\"],[0.2222222222222222,\"#7201a8\"],[0.3333333333333333,\"#9c179e\"],[0.4444444444444444,\"#bd3786\"],[0.5555555555555556,\"#d8576b\"],[0.6666666666666666,\"#ed7953\"],[0.7777777777777778,\"#fb9f3a\"],[0.8888888888888888,\"#fdca26\"],[1.0,\"#f0f921\"]],\"sequentialminus\":[[0.0,\"#0d0887\"],[0.1111111111111111,\"#46039f\"],[0.2222222222222222,\"#7201a8\"],[0.3333333333333333,\"#9c179e\"],[0.4444444444444444,\"#bd3786\"],[0.5555555555555556,\"#d8576b\"],[0.6666666666666666,\"#ed7953\"],[0.7777777777777778,\"#fb9f3a\"],[0.8888888888888888,\"#fdca26\"],[1.0,\"#f0f921\"]],\"diverging\":[[0,\"#8e0152\"],[0.1,\"#c51b7d\"],[0.2,\"#de77ae\"],[0.3,\"#f1b6da\"],[0.4,\"#fde0ef\"],[0.5,\"#f7f7f7\"],[0.6,\"#e6f5d0\"],[0.7,\"#b8e186\"],[0.8,\"#7fbc41\"],[0.9,\"#4d9221\"],[1,\"#276419\"]]},\"xaxis\":{\"gridcolor\":\"white\",\"linecolor\":\"white\",\"ticks\":\"\",\"title\":{\"standoff\":15},\"zerolinecolor\":\"white\",\"automargin\":true,\"zerolinewidth\":2},\"yaxis\":{\"gridcolor\":\"white\",\"linecolor\":\"white\",\"ticks\":\"\",\"title\":{\"standoff\":15},\"zerolinecolor\":\"white\",\"automargin\":true,\"zerolinewidth\":2},\"scene\":{\"xaxis\":{\"backgroundcolor\":\"#E5ECF6\",\"gridcolor\":\"white\",\"linecolor\":\"white\",\"showbackground\":true,\"ticks\":\"\",\"zerolinecolor\":\"white\",\"gridwidth\":2},\"yaxis\":{\"backgroundcolor\":\"#E5ECF6\",\"gridcolor\":\"white\",\"linecolor\":\"white\",\"showbackground\":true,\"ticks\":\"\",\"zerolinecolor\":\"white\",\"gridwidth\":2},\"zaxis\":{\"backgroundcolor\":\"#E5ECF6\",\"gridcolor\":\"white\",\"linecolor\":\"white\",\"showbackground\":true,\"ticks\":\"\",\"zerolinecolor\":\"white\",\"gridwidth\":2}},\"shapedefaults\":{\"line\":{\"color\":\"#2a3f5f\"}},\"annotationdefaults\":{\"arrowcolor\":\"#2a3f5f\",\"arrowhead\":0,\"arrowwidth\":1},\"geo\":{\"bgcolor\":\"white\",\"landcolor\":\"#E5ECF6\",\"subunitcolor\":\"white\",\"showland\":true,\"showlakes\":true,\"lakecolor\":\"white\"},\"title\":{\"x\":0.05},\"mapbox\":{\"style\":\"light\"}}},\"xaxis\":{\"anchor\":\"y\",\"domain\":[0.0,1.0],\"title\":{\"text\":\"day\"}},\"yaxis\":{\"anchor\":\"x\",\"domain\":[0.0,1.0],\"title\":{\"text\":\"percentage_new\"}},\"legend\":{\"tracegroupgap\":0},\"title\":{\"text\":\"Percentage of daily messages sent by new users\"}},                        {\"responsive\": true}                    ).then(function(){\n",
              "                            \n",
              "var gd = document.getElementById('5fd87f78-a3e0-4f97-862a-b9396a3b7a7e');\n",
              "var x = new MutationObserver(function (mutations, observer) {{\n",
              "        var display = window.getComputedStyle(gd).display;\n",
              "        if (!display || display === 'none') {{\n",
              "            console.log([gd, 'removed!']);\n",
              "            Plotly.purge(gd);\n",
              "            observer.disconnect();\n",
              "        }}\n",
              "}});\n",
              "\n",
              "// Listen for the removal of the full notebook cells\n",
              "var notebookContainer = gd.closest('#notebook-container');\n",
              "if (notebookContainer) {{\n",
              "    x.observe(notebookContainer, {childList: true});\n",
              "}}\n",
              "\n",
              "// Listen for the clearing of the current output cell\n",
              "var outputEl = gd.closest('.output');\n",
              "if (outputEl) {{\n",
              "    x.observe(outputEl, {childList: true});\n",
              "}}\n",
              "\n",
              "                        })                };                            </script>        </div>\n",
              "</body>\n",
              "</html>"
            ]
          },
          "metadata": {},
          "output_type": "display_data"
        }
      ],
      "source": [
        "import pandas as pd\n",
        "import plotly.express as pex\n",
        "from datetime import datetime\n",
        "\n",
        "\n",
        "\n",
        "\n",
        "csv = pd.read_csv('https://drive.google.com/u/0/uc?id=1R_M3xI3b_BqAN_xWLqJDneg273X_sok5&export=download') # might fail, reinclude data\n",
        "\n",
        "#print(csv)\n",
        "prev_time = csv['message_time'][0].split()[0]\n",
        "\n",
        "print(prev_time)\n",
        "data = {'day':[], 'percentage_new': []}\n",
        "total = set()\n",
        "daily = set()\n",
        "t_cnt = 0\n",
        "d_cnt = 0\n",
        "d_unique = 0\n",
        "for r, (mid, aid, m_time) in csv.iterrows():\n",
        "    m_time = m_time.split()[0]\n",
        "    if m_time != prev_time:\n",
        "        date = datetime.strptime(prev_time, '%Y-%m-%d')\n",
        "        #print(len(seen), d_cnt, date)\n",
        "        data['day'].append(date)\n",
        "        data['percentage_new'].append(len(daily)/d_cnt * 100)\n",
        "        prev_time = m_time\n",
        "        d_cnt = 0\n",
        "        daily = set()\n",
        "\n",
        "    daily.add(aid)\n",
        "    total.update(daily)\n",
        "    d_cnt += 1\n",
        "\n",
        "\n",
        "data['day'].append(datetime.strptime(m_time, '%Y-%m-%d'))\n",
        "data['percentage_new'].append(len(daily) / d_cnt * 100)\n",
        "\n",
        "chart = pex.line(data, x = 'day', y='percentage_new', title='Percentage of daily messages sent by new users')\n",
        "chart.show()\n",
        "\n",
        "\n",
        "\n"
      ]
    },
    {
      "attachments": {},
      "cell_type": "markdown",
      "metadata": {
        "id": "DDe4I-E-_1M-"
      },
      "source": [
        "### Task 2 (Django)\n",
        "**Django follow certain instructions.**"
      ]
    },
    {
      "cell_type": "code",
      "execution_count": null,
      "metadata": {
        "id": "hF_IbJXY_rV5"
      },
      "outputs": [],
      "source": [
        "# Submitted as video"
      ]
    },
    {
      "attachments": {},
      "cell_type": "markdown",
      "metadata": {
        "id": "o6MoFpH7_tn2"
      },
      "source": [
        "### Task 3 (LangChain)\n",
        "Write a simple Chain that does the following:\n",
        "- Uses openai's gpt-3.5-turbo model.\n",
        "- Remembers the last 2 message exchanges, as well as the system message.\n",
        "- Greets people and tells a joke about their name."
      ]
    },
    {
      "cell_type": "code",
      "execution_count": null,
      "metadata": {
        "id": "flO7_-oA_xXv"
      },
      "outputs": [],
      "source": [
        "import openai\n",
        "import os\n",
        "from collections import deque\n",
        "\n",
        "\"\"\"\n",
        "Uses openai's gpt-3.5-turbo model.\n",
        "Remembers the last 2 message exchanges, as well as the system message.\n",
        "Greets people and tells a joke about their name.\n",
        "\"\"\"\n",
        "\n",
        "\n",
        "def get_token():\n",
        "    dirs = os.path.abspath(os.path.join(os.path.dirname(__file__), '..'))\n",
        "    with open(dirs + '\\gpt.txt', 'r+') as file:\n",
        "        token = file.read()\n",
        "    token = token.split('\\n')\n",
        "    return token[0]\n",
        "\n",
        "\n",
        "if __name__ == '__main__':\n",
        "    c = {'system': deque(), 'message': deque()}\n",
        "    # example message\n",
        "    user_name = 'xxxx'\n",
        "    c['system'].append(\n",
        "        f'You are a personal assistant of {user_name} who is currently located in Chicago. You greet him with a joke about his name')\n",
        "    c['message'].appendleft('Hello, tell me a good chinese restaurant in my location')\n",
        "    c['message'].appendleft('Hello, how is the weather today')\n",
        "    #\n",
        "    openai.api_key = get_token()\n",
        "    res = openai.ChatCompletion.create(\n",
        "        model='gpt-3.5-turbo',\n",
        "        messages=[{'role': 'system',\n",
        "                   'content': ''.join(c['system'])},\n",
        "                  {'role': 'user',\n",
        "                   'content': '\\n'.join(c['message'])}\n",
        "                  ],\n",
        "        temperature=0.075\n",
        "    )\n",
        "    # message retaining\n",
        "    # while len(c['message']) > 2:\n",
        "    #     c['message'].pop()\n",
        "    print(res)\n",
        "    #print(c['choices'][0]['message']['content'])\n",
        "\n",
        "\"\"\"\n",
        "Hello xxxx! How's the Windy City treating you today? Speaking of wind, did you know that your name \"Zhang\" sounds like \"jang\" which is the sound the wind makes? Just a little joke to brighten up your day! Now, let's find you a delicious Chinese restaurant nearby.\n",
        "\"\"\""
      ]
    },
    {
      "attachments": {},
      "cell_type": "markdown",
      "metadata": {
        "id": "HMAawESH_32U"
      },
      "source": [
        "### Task 4 (Discord API)\n",
        "\n",
        "Write a very simple discord bot that says \"Hello {user_name}!\" to every new incoming message in a discord server.\n"
      ]
    },
    {
      "cell_type": "code",
      "execution_count": null,
      "metadata": {
        "id": "D_xPdNDk_4OY"
      },
      "outputs": [],
      "source": [
        "import os\n",
        "import discord\n",
        "\n",
        "def get_token():\n",
        "    dirs = os.path.abspath(os.path.join(os.path.dirname(__file__), '..'))\n",
        "    with open(dirs + '\\discord.txt', 'r+') as file:\n",
        "        token = file.read()\n",
        "    token = token.split('\\n')\n",
        "    return token[1]\n",
        "\n",
        "class DiscordClient(discord.Client):\n",
        "    async def on_ready(self):\n",
        "        print(f'logged in as {self.user}')\n",
        "\n",
        "    async def on_message(self, message):\n",
        "        if message.content.startswith('Hey'):\n",
        "            await message.channel.send('Hello')\n",
        "        print(f'Message from {message.author}: {message.content}')\n",
        "\n",
        "\n",
        "    async def on_member_join(self, member):\n",
        "        #print('someone joined', client, client.guilds)\n",
        "        await member.guild.text_channels[0].send(f'Hello {member.name}!')\n",
        "\n",
        "\n",
        "\n",
        "if __name__ == '__main__':\n",
        "    intents = discord.Intents.all()\n",
        "    intents.message_content = True\n",
        "    client = DiscordClient(intents=intents)\n",
        "    client.run(get_token())\n"
      ]
    },
    {
      "attachments": {},
      "cell_type": "markdown",
      "metadata": {
        "id": "shZgOMw7_4fS"
      },
      "source": [
        "### Task 5\n",
        "Use LangChain to write a discord bot that will:\n",
        "- Greet a user, making a joke about their name and then proceed to answer any question they have, whenever a user sends a message.\n",
        "- Use async with langchain chain calls.\n"
      ]
    },
    {
      "cell_type": "code",
      "execution_count": null,
      "metadata": {
        "id": "6Wxh-dWx_4oy"
      },
      "outputs": [],
      "source": [
        "import openai\n",
        "import os\n",
        "import discord\n",
        "\n",
        "\n",
        "def get_token():\n",
        "    dirs = os.path.abspath(os.path.join(os.path.dirname(__file__), '..'))\n",
        "    token = []\n",
        "    with open(dirs + '\\gpt.txt', 'r+') as file:\n",
        "        token.append(file.read().split('\\n')[0])\n",
        "    with open(dirs + '\\discord.txt', 'r+') as file:\n",
        "        token.append(file.read().split('\\n')[1])\n",
        "    return token\n",
        "\n",
        "\n",
        "class DiscordClient(discord.Client):\n",
        "\n",
        "    async def on_ready(self):\n",
        "        print(f'logged in as {self.user}')\n",
        "        openai.api_key = get_token()[0]\n",
        "\n",
        "    async def on_message(self, message):\n",
        "        if message.author == self.user:\n",
        "            return\n",
        "        print(f'Message from {message.author}: {message.content}')\n",
        "        res = await openai.ChatCompletion.acreate(\n",
        "            model='gpt-3.5-turbo',\n",
        "            messages=[{'role': 'system', 'content': \"You're a discord manager and also a wikipedia\"},\n",
        "                      {'role': 'user', 'content': message.content}],\n",
        "            temperature=0,\n",
        "            max_tokens=128,\n",
        "        )\n",
        "        #print(res)\n",
        "        content = res['choices'][0]['message']['content']\n",
        "        await message.channel.send(f'{message.author.mention}, {content}')\n",
        "\n",
        "    async def on_member_join(self, member):\n",
        "        # print('someone joined', client, client.guilds)\n",
        "        res = await openai.ChatCompletion.acreate(\n",
        "            model='gpt-3.5-turbo',\n",
        "            messages=[{'role': 'system',\n",
        "                       'content': 'You are a discord doorman'},\n",
        "                      {'role': 'user', 'content': f'make a joke about username {member.name}'}],\n",
        "            temperature=0.075,\n",
        "        )\n",
        "        #print(res)\n",
        "        content = res['choices'][0]['message']['content']\n",
        "        await member.guild.text_channels[0].send(f'Hello {member.mention}! \\n {content}')\n",
        "\n",
        "\n",
        "if __name__ == '__main__':\n",
        "    intents = discord.Intents.all()\n",
        "    client = DiscordClient(intents=intents)\n",
        "    client.run(get_token()[1])\n",
        "\n",
        "\"\"\"\n",
        "p: new user lua24\n",
        "a:  Why did the Lua24 username get kicked out of the Discord party?\n",
        "\n",
        "Because they were too good at scripting their way into trouble!\n",
        "\n",
        "--\n",
        "\n",
        "q: who wrote 1984\n",
        "a: The novel \"1984\" was written by George Orwell. It was published in 1949 and has since become a classic dystopian novel, exploring themes of totalitarianism, government surveillance, and the manipulation of truth.\n",
        "\"\"\"\n"
      ]
    },
    {
      "cell_type": "code",
      "execution_count": null,
      "metadata": {
        "id": "gxofoCWyCw6t"
      },
      "outputs": [],
      "source": []
    }
  ],
  "metadata": {
    "colab": {
      "provenance": []
    },
    "kernelspec": {
      "display_name": "Python 3",
      "name": "python3"
    },
    "language_info": {
      "name": "python"
    }
  },
  "nbformat": 4,
  "nbformat_minor": 0
}
